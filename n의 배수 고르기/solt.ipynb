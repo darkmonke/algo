{
 "cells": [
  {
   "cell_type": "code",
   "execution_count": 1,
   "id": "c1f2fa72-0658-4deb-9466-24abc17080fb",
   "metadata": {},
   "outputs": [],
   "source": [
    "def solution(n, numlist):\n",
    "    return list(filter(lambda v: v%n==0, numlist))"
   ]
  },
  {
   "cell_type": "markdown",
   "id": "a9f24304-f5f7-439a-891c-d44820b6aa8c",
   "metadata": {},
   "source": [
    "# 1. `lambda` 함수\n",
    "\n",
    "* `lambda` 함수는 일반적인 함수와 달리 이름이 없으며 간단한 연산을 한 줄로 표현할 수 있다.\n",
    "* `lambda` 함수의 기본 구조는 다음과 같다.\n",
    "    ```python\n",
    "    lambda 매개변수 : 표현식\n",
    "    ```\n",
    "* 위 코드에서는 `lambda v: v % n == 0`가 사용\n",
    "    * `v`는 `numlist`의 각 요소를 나타내는 매개변수\n",
    "    * `v % n == 0`은 `v`를 `n`으로 나눈 나머지가 0인지 확인하는 표현식.\n",
    "\n",
    "**2. `filter` 함수**\n",
    "\n",
    "* `filter` 함수는 주어진 함수의 결과를 `True`로 만드는 요소만 걸러내는 데 사용\n",
    "* `filter` 함수의 기본 구조는 다음과 같다.\n",
    "    ```python\n",
    "    filter(함수, 반복 가능한 객체)\n",
    "    ```\n",
    "* 주어진 코드에서는 `filter(lambda v: v % n == 0, numlist)`가 사용되었습니다.\n",
    "    * 첫 번째 인자는 `lambda` 함수로, 각 요소가 `n`의 배수인지 확인\n",
    "    * 두 번째 인자는 `numlist`로, 필터링할 대상 리스트\n",
    "* `filter` 함수의 결과는 필터링된 요소를 포함하는 반복 가능한 객체. 이 객체를 `list()`로 감싸 리스트로 변환하여 출력"
   ]
  },
  {
   "cell_type": "code",
   "execution_count": null,
   "id": "6af22553-52ea-4b0b-9f9c-9f56b668d289",
   "metadata": {},
   "outputs": [],
   "source": []
  }
 ],
 "metadata": {
  "kernelspec": {
   "display_name": "Python 3 (ipykernel)",
   "language": "python",
   "name": "python3"
  },
  "language_info": {
   "codemirror_mode": {
    "name": "ipython",
    "version": 3
   },
   "file_extension": ".py",
   "mimetype": "text/x-python",
   "name": "python",
   "nbconvert_exporter": "python",
   "pygments_lexer": "ipython3",
   "version": "3.13.2"
  }
 },
 "nbformat": 4,
 "nbformat_minor": 5
}
