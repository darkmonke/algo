{
 "cells": [
  {
   "cell_type": "code",
   "execution_count": 6,
   "id": "878b3427-cea8-43b9-bb9d-ae7686b6bfab",
   "metadata": {},
   "outputs": [],
   "source": [
    "def solution(n, numlist):\n",
    "    \n",
    "    answer = []\n",
    "    \n",
    "    for i in numlist:\n",
    "        if i % n == 0:\n",
    "            answer.append(i)\n",
    "    return answer"
   ]
  },
  {
   "cell_type": "code",
   "execution_count": null,
   "id": "bf468056-217e-42b6-9e2f-3b60da53a905",
   "metadata": {},
   "outputs": [],
   "source": []
  },
  {
   "cell_type": "code",
   "execution_count": null,
   "id": "1fd857ce-5398-4f6c-bf01-5279dc10be96",
   "metadata": {},
   "outputs": [],
   "source": []
  }
 ],
 "metadata": {
  "kernelspec": {
   "display_name": "Python 3 (ipykernel)",
   "language": "python",
   "name": "python3"
  },
  "language_info": {
   "codemirror_mode": {
    "name": "ipython",
    "version": 3
   },
   "file_extension": ".py",
   "mimetype": "text/x-python",
   "name": "python",
   "nbconvert_exporter": "python",
   "pygments_lexer": "ipython3",
   "version": "3.13.2"
  }
 },
 "nbformat": 4,
 "nbformat_minor": 5
}
