{
 "cells": [
  {
   "cell_type": "code",
   "execution_count": null,
   "id": "48be51e0-07af-4f87-acaa-2df7fa458a38",
   "metadata": {},
   "outputs": [],
   "source": [
    "def solution(numbers):\n",
    "    sum_num = 0\n",
    "    \n",
    "    for i in numbers:\n",
    "        sum_num += i\n",
    "    return sum_num / len(numbers)"
   ]
  }
 ],
 "metadata": {
  "kernelspec": {
   "display_name": "Python 3 (ipykernel)",
   "language": "python",
   "name": "python3"
  },
  "language_info": {
   "codemirror_mode": {
    "name": "ipython",
    "version": 3
   },
   "file_extension": ".py",
   "mimetype": "text/x-python",
   "name": "python",
   "nbconvert_exporter": "python",
   "pygments_lexer": "ipython3",
   "version": "3.13.2"
  }
 },
 "nbformat": 4,
 "nbformat_minor": 5
}
