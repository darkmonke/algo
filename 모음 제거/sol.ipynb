{
 "cells": [
  {
   "cell_type": "code",
   "execution_count": 1,
   "id": "a7a515ba-7710-432c-baaa-87dffeb6a3bd",
   "metadata": {},
   "outputs": [],
   "source": [
    "def solution(my_string):\n",
    "    for s in [a, e, i, o, u]:\n",
    "        if s in my_string:\n",
    "            my_string.remove(s)\n",
    "    return my_string"
   ]
  },
  {
   "cell_type": "markdown",
   "id": "87147b70-5023-4f24-8eaa-c9cb661c9275",
   "metadata": {},
   "source": [
    "# 위 코드가 틀린 이유\n",
    "1. 리스트 안 문자 데이터들을 따옴표로 감싸야 함.\n",
    "2. remove()는 문자열이 아닌 리스트에 사용할 수 있는 함수. 문자열에서는 replace() 함수 사용 가능"
   ]
  },
  {
   "cell_type": "code",
   "execution_count": null,
   "id": "388a4d79-e5bc-42f1-b186-eed89ed92700",
   "metadata": {},
   "outputs": [],
   "source": []
  }
 ],
 "metadata": {
  "kernelspec": {
   "display_name": "Python 3 (ipykernel)",
   "language": "python",
   "name": "python3"
  },
  "language_info": {
   "codemirror_mode": {
    "name": "ipython",
    "version": 3
   },
   "file_extension": ".py",
   "mimetype": "text/x-python",
   "name": "python",
   "nbconvert_exporter": "python",
   "pygments_lexer": "ipython3",
   "version": "3.13.2"
  }
 },
 "nbformat": 4,
 "nbformat_minor": 5
}
