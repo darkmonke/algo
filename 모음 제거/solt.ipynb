{
 "cells": [
  {
   "cell_type": "code",
   "execution_count": null,
   "id": "584fdd16-c43e-4ad5-ba1f-136ee05c4b23",
   "metadata": {},
   "outputs": [],
   "source": [
    "def solution(my_string):\n",
    "    vowels = 'aeiou'\n",
    "    return ''.join(char for char in my_string if char not in vowels)"
   ]
  }
 ],
 "metadata": {
  "kernelspec": {
   "display_name": "Python 3 (ipykernel)",
   "language": "python",
   "name": "python3"
  },
  "language_info": {
   "codemirror_mode": {
    "name": "ipython",
    "version": 3
   },
   "file_extension": ".py",
   "mimetype": "text/x-python",
   "name": "python",
   "nbconvert_exporter": "python",
   "pygments_lexer": "ipython3",
   "version": "3.13.2"
  }
 },
 "nbformat": 4,
 "nbformat_minor": 5
}
