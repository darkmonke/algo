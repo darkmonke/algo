{
 "cells": [
  {
   "cell_type": "code",
   "execution_count": null,
   "id": "f9db0384-12f0-4991-9d7f-c47b80db3174",
   "metadata": {},
   "outputs": [],
   "source": [
    "def solution(sides):\n",
    "\n",
    "    sl = sorted(sides)\n",
    "    result =  1 if sl[2] < sl[0] + sl[1] else 2\n",
    "    \n",
    "    return result"
   ]
  }
 ],
 "metadata": {
  "kernelspec": {
   "display_name": "Python 3 (ipykernel)",
   "language": "python",
   "name": "python3"
  },
  "language_info": {
   "codemirror_mode": {
    "name": "ipython",
    "version": 3
   },
   "file_extension": ".py",
   "mimetype": "text/x-python",
   "name": "python",
   "nbconvert_exporter": "python",
   "pygments_lexer": "ipython3",
   "version": "3.13.2"
  }
 },
 "nbformat": 4,
 "nbformat_minor": 5
}
