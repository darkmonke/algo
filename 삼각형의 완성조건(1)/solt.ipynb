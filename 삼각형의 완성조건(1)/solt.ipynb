{
 "cells": [
  {
   "cell_type": "code",
   "execution_count": null,
   "id": "a46a77c6-ecf1-4719-9292-a3081fdee702",
   "metadata": {},
   "outputs": [],
   "source": [
    "def solution(sides):\n",
    "    sides.sort()\n",
    "    return 1 if sides[0]+sides[1]>sides[2] else 2"
   ]
  }
 ],
 "metadata": {
  "kernelspec": {
   "display_name": "Python 3 (ipykernel)",
   "language": "python",
   "name": "python3"
  },
  "language_info": {
   "codemirror_mode": {
    "name": "ipython",
    "version": 3
   },
   "file_extension": ".py",
   "mimetype": "text/x-python",
   "name": "python",
   "nbconvert_exporter": "python",
   "pygments_lexer": "ipython3",
   "version": "3.13.2"
  }
 },
 "nbformat": 4,
 "nbformat_minor": 5
}
