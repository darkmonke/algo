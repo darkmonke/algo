{
 "cells": [
  {
   "cell_type": "code",
   "execution_count": 1,
   "id": "b8a9954e-39bc-4202-bfb9-5508421e7b94",
   "metadata": {},
   "outputs": [],
   "source": [
    "def solution(str1, str2):\n",
    "    set1 = set(str1)\n",
    "    set2 = set(str2)\n",
    "\n",
    "    if set2 in set1:\n",
    "        return 1\n",
    "    else:\n",
    "        return 2"
   ]
  },
  {
   "cell_type": "markdown",
   "id": "051c4739-f756-43fb-a88e-0461fd9df072",
   "metadata": {},
   "source": [
    "위 코드에서는 set을 사용하여 문자열을 처리하고 있음.\n",
    "set은 문자열의 각 문자를 고유한 요소로 저장하기 때문에 부분 문자열의 존재 여부를 정확하게 판단할 수 없음.\n",
    "예를 들어 str1 = \"abc\"이고 str2 = \"ac\"인 경우, set1 = {'a', 'b', 'c'}이고 set2 = {'a', 'c'}가 되어 str2가 str1의 부분 문자열인지 판단할 수 없음.\n",
    "\n",
    "또한 `set2 in set1`은 set2의 요소가 set1에 모두 포함되는지 확인하는 것이 아니라, set2라는 집합 객체가 set1이라는 집합 객체 안에 존재하는지 확인하는 것"
   ]
  },
  {
   "cell_type": "code",
   "execution_count": null,
   "id": "abb2d602-ffae-4776-b233-f40700e09720",
   "metadata": {},
   "outputs": [],
   "source": []
  },
  {
   "cell_type": "code",
   "execution_count": null,
   "id": "ad4465b7-04f3-4252-b4e7-6cf349f7a7e1",
   "metadata": {},
   "outputs": [],
   "source": []
  }
 ],
 "metadata": {
  "kernelspec": {
   "display_name": "Python 3 (ipykernel)",
   "language": "python",
   "name": "python3"
  },
  "language_info": {
   "codemirror_mode": {
    "name": "ipython",
    "version": 3
   },
   "file_extension": ".py",
   "mimetype": "text/x-python",
   "name": "python",
   "nbconvert_exporter": "python",
   "pygments_lexer": "ipython3",
   "version": "3.13.2"
  }
 },
 "nbformat": 4,
 "nbformat_minor": 5
}
