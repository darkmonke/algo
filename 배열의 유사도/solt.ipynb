{
 "cells": [
  {
   "cell_type": "code",
   "execution_count": 1,
   "id": "24ce9e9e-6240-47a3-a865-beb7879b3f1e",
   "metadata": {},
   "outputs": [],
   "source": [
    "def solution(s1, s2):\n",
    "    count = 0\n",
    "    \n",
    "    for i in s1:\n",
    "        if i in s2:\n",
    "            count += 1\n",
    "    return count"
   ]
  },
  {
   "cell_type": "markdown",
   "id": "39824e11-0aaa-4d4a-9144-e93fd454bf3a",
   "metadata": {},
   "source": [
    "### set 자료형\n",
    "1. set 자료형의 특징\n",
    "\n",
    "- 중복 불가: 동일한 값을 여러 번 추가해도 set에는 한 번만 저장\n",
    "- 순서 없음: 요소들의 순서가 보장되지 않음. 따라서 인덱싱이나 슬라이싱을 사용 불가\n",
    "- 가변 자료형: 요소를 추가, 삭제할 수 있습니다.\n",
    "- 해시 가능 요소만 허용: set의 요소는 해시 가능(hashable)해야 함. 일반적으로 숫자, 문자열, 튜플 등은 해시 가능하지만, 리스트, 딕셔너리 등은 해시 불가능\n",
    "\n",
    "2. set 자료형의 사용법:\n",
    "\n",
    "- set 생성:\n",
    "    - {} 또는 set() 함수를 사용하여 set을 생성할 수 있음\n",
    "    - 빈 set을 생성할 때는 반드시 set() 함수를 사용해야 함. {}는 빈 딕셔너리를 생성\n",
    "    예시:\n",
    "\n",
    "s1 = {1, 2, 3}\n",
    "s2 = set([3, 4, 5])\n",
    "s3 = set() #빈 set 생성\n",
    "\n",
    "- 요소 추가/삭제:\n",
    "    - add(): 요소를 추가\n",
    "    - remove(): 특정 요소를 삭제 요소가 없으면 KeyError가 발생\n",
    "    - discard(): 특정 요소를 삭제 요소가 없어도 에러가 발생하지 않음.\n",
    "    - pop(): 임의의 요소를 삭제하고 반환\n",
    "    - clear(): 모든 요소를 삭제\n",
    "예시:\n",
    "\n",
    "s = {1, 2, 3}\n",
    "s.add(4) #s는 {1,2,3,4}\n",
    "s.remove(2) #s는 {1,3,4}\n",
    "s.discard(5) #s는 {1,3,4}\n",
    "3. 집합 연산:\n",
    "- `|` (합집합): 두 set의 모든 요소를 포함하는 새로운 set을 반환\n",
    "- `&` (교집합): 두 set에 공통으로 존재하는 요소들로 이루어진 새로운 set을 반환\n",
    "- `-` (차집합): 첫 번째 set에는 존재하지만 두 번째 set에는 존재하지 않는 요소들로 이루어진 새로운 set을 반환\n",
    "- `^` (대칭 차집합): 두 set에 각각 존재하지만 공통으로는 존재하지 않는 요소들로 이루어진 새로운 set을 반환"
   ]
  },
  {
   "cell_type": "code",
   "execution_count": null,
   "id": "03dbe551-3254-45f9-a8a4-2d39b5426a8b",
   "metadata": {},
   "outputs": [],
   "source": []
  }
 ],
 "metadata": {
  "kernelspec": {
   "display_name": "Python 3 (ipykernel)",
   "language": "python",
   "name": "python3"
  },
  "language_info": {
   "codemirror_mode": {
    "name": "ipython",
    "version": 3
   },
   "file_extension": ".py",
   "mimetype": "text/x-python",
   "name": "python",
   "nbconvert_exporter": "python",
   "pygments_lexer": "ipython3",
   "version": "3.13.2"
  }
 },
 "nbformat": 4,
 "nbformat_minor": 5
}
