{
 "cells": [
  {
   "cell_type": "code",
   "execution_count": 1,
   "id": "e90d6f6f-1cd3-4215-8f30-a012b0b82ace",
   "metadata": {},
   "outputs": [],
   "source": [
    "def solution(s1, s2):\n",
    "    new_list = s1.extend(s2)\n",
    "    for i in new_list:\n",
    "        return new_list.count(i) if new_list.count(i) > 1 else 0"
   ]
  },
  {
   "cell_type": "markdown",
   "id": "711f9f16-54d9-43a2-9600-3b4fb2417d40",
   "metadata": {},
   "source": [
    "### 위 코드에서 타입에러가 발생하는 이유\n",
    "```TypeError: 'NoneType' object is not iterable```\n",
    "extend 메소드는 기존 리스트를 수정하는 메소드로, 반환값이 없다(None을 반환). 즉, `s1.extend`는 s1에 s2의 모든 요소를 추가하지만 이 작업의 결과를 반환하지는 않는다. 이와 같은 작업을 'in-place' 작업이라고 한다.\n",
    "\n",
    "- 예시\n",
    "```\n",
    "my_list = [1, 2, 3]\n",
    "result = my_list.extend([4, 5])\n",
    "print(my_list)  # 출력: [1, 2, 3, 4, 5]\n",
    "print(result)   # 출력: None\n",
    "```\n",
    "\n",
    "다음과 같은 리스트 메소드들도 비슷하게 작동한다.\n",
    "- `append()` - 요소를 추가하고 None 반환\n",
    "- `insert()` - 특정 위치에 요소를 삽입하고 None 반환\n",
    "- `remove()` - 요소를 제거하고 None 반환\n",
    "- `sort()` - 리스트를 정렬하고 None 반환"
   ]
  },
  {
   "cell_type": "markdown",
   "id": "2106a8b1-f5ff-4d44-9dae-e5dbf7fef03d",
   "metadata": {},
   "source": [
    "### `append`와 `extend`의 차이\n",
    "\n",
    "1. `append()`: 단일 요소를 리스트의 끝에 하나의 항목으로 추가\n",
    "   - 객체 자체를 리스트의 새로운 요소로 추가\n",
    "   - 리스트, 튜플, 문자열 등을 추가할 경우 그 객체 자체가 하나의 요소로 추가\n",
    "     \n",
    "2. `extend()` : 반복 가능한(iterable) 객체의 모든 요소들을 개별적으로 리스트에 추가\n",
    "    - 리스트, 튜플, 문자열 등의 각 요소들이 리스트에 개별적으로 추가\n",
    "    - 기존 리스트에 다른 리스트의 내용을 펼쳐서 합침.\n",
    "\n",
    "- 예시\n",
    "```\n",
    "# append 예제\n",
    "list1 = [1, 2, 3]\n",
    "list1.append(4)\n",
    "print(list1)  # 출력: [1, 2, 3, 4]\n",
    "\n",
    "list1.append([5, 6])\n",
    "print(list1)  # 출력: [1, 2, 3, 4, [5, 6]]\n",
    "# [5, 6]이 하나의 요소로 추가됨 (리스트 안의 리스트)\n",
    "\n",
    "# extend 예제\n",
    "list2 = [1, 2, 3]\n",
    "list2.extend([4])\n",
    "print(list2)  # 출력: [1, 2, 3, 4]\n",
    "\n",
    "list2.extend([5, 6])\n",
    "print(list2)  # 출력: [1, 2, 3, 4, 5, 6]\n",
    "# 5와 6이 각각 개별 요소로 추가됨\n",
    "```"
   ]
  },
  {
   "cell_type": "code",
   "execution_count": null,
   "id": "38dc3cb8-9fee-4865-8843-dc3393310494",
   "metadata": {},
   "outputs": [],
   "source": []
  }
 ],
 "metadata": {
  "kernelspec": {
   "display_name": "Python 3 (ipykernel)",
   "language": "python",
   "name": "python3"
  },
  "language_info": {
   "codemirror_mode": {
    "name": "ipython",
    "version": 3
   },
   "file_extension": ".py",
   "mimetype": "text/x-python",
   "name": "python",
   "nbconvert_exporter": "python",
   "pygments_lexer": "ipython3",
   "version": "3.13.2"
  }
 },
 "nbformat": 4,
 "nbformat_minor": 5
}
