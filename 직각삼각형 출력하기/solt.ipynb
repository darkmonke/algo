{
 "cells": [
  {
   "cell_type": "code",
   "execution_count": 1,
   "id": "691c47bb-73ec-4223-ac94-3dfbda1b20ef",
   "metadata": {},
   "outputs": [
    {
     "name": "stdin",
     "output_type": "stream",
     "text": [
      " 3\n"
     ]
    },
    {
     "name": "stdout",
     "output_type": "stream",
     "text": [
      "*\n",
      "**\n",
      "***\n"
     ]
    }
   ],
   "source": [
    "n = int(input())\n",
    "for i in range(1, n+1):\n",
    "    print('*' * i)"
   ]
  },
  {
   "cell_type": "markdown",
   "id": "b49050dd-ef07-4275-8370-ea9f59726780",
   "metadata": {},
   "source": [
    "int(input())은 두 가지 함수가 결합된 표현식\n",
    "\n",
    "input() 함수는 사용자가 Enter 키를 누를 때까지 입력한 내용을 문자열(string) 형태로 반환\n",
    "\n",
    "따라서 int(input())은 \"사용자로부터 입력을 받아서 그 입력값을 정수로 변환한다\"는 의미\n",
    "예를 들어:\n",
    "\n",
    "사용자가 \"5\"를 입력하면\n",
    "input()은 문자열 \"5\"를 반환하고\n",
    "int()는 이 \"5\"를 정수 5로 변환\n",
    "\n",
    "이렇게 하는 이유는 사용자의 입력이 항상 문자열로 저장되기 때문. 숫자 계산에 사용하려면 반드시 적절한 숫자 타입(정수, 실수 등)으로 변환해야 함."
   ]
  },
  {
   "cell_type": "code",
   "execution_count": null,
   "id": "b3371b9d-fab2-4810-8fcf-2470d3e17e85",
   "metadata": {},
   "outputs": [],
   "source": []
  }
 ],
 "metadata": {
  "kernelspec": {
   "display_name": "Python 3 (ipykernel)",
   "language": "python",
   "name": "python3"
  },
  "language_info": {
   "codemirror_mode": {
    "name": "ipython",
    "version": 3
   },
   "file_extension": ".py",
   "mimetype": "text/x-python",
   "name": "python",
   "nbconvert_exporter": "python",
   "pygments_lexer": "ipython3",
   "version": "3.13.2"
  }
 },
 "nbformat": 4,
 "nbformat_minor": 5
}
