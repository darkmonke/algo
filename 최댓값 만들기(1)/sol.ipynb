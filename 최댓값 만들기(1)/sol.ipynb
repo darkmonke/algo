{
 "cells": [
  {
   "cell_type": "code",
   "execution_count": null,
   "id": "e68f9b18-6b9e-4d8c-912a-e40c30c742a6",
   "metadata": {},
   "outputs": [],
   "source": [
    "def solution(numbers):\n",
    "    sorted_numbers = sorted(numbers, reverse = True)\n",
    "    mt = sorted_numbers[0] * sorted_numbers[1]\n",
    "    return mt"
   ]
  }
 ],
 "metadata": {
  "kernelspec": {
   "display_name": "Python 3 (ipykernel)",
   "language": "python",
   "name": "python3"
  },
  "language_info": {
   "codemirror_mode": {
    "name": "ipython",
    "version": 3
   },
   "file_extension": ".py",
   "mimetype": "text/x-python",
   "name": "python",
   "nbconvert_exporter": "python",
   "pygments_lexer": "ipython3",
   "version": "3.13.2"
  }
 },
 "nbformat": 4,
 "nbformat_minor": 5
}
