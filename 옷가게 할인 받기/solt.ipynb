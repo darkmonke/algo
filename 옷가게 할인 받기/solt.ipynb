{
 "cells": [
  {
   "cell_type": "code",
   "execution_count": null,
   "id": "b6140f37-8fb7-4091-bc74-23ec75e04cb2",
   "metadata": {},
   "outputs": [],
   "source": [
    "def solution(price):\n",
    "    if price >= 100000:\n",
    "        return int(price * 0.95)\n",
    "    elif price >= 300000:\n",
    "        return int(price * 0.9)\n",
    "    elif price >= 500000:\n",
    "        return int(price * 0.8)\n",
    "    else:\n",
    "        return price"
   ]
  }
 ],
 "metadata": {
  "kernelspec": {
   "display_name": "Python 3 (ipykernel)",
   "language": "python",
   "name": "python3"
  },
  "language_info": {
   "codemirror_mode": {
    "name": "ipython",
    "version": 3
   },
   "file_extension": ".py",
   "mimetype": "text/x-python",
   "name": "python",
   "nbconvert_exporter": "python",
   "pygments_lexer": "ipython3",
   "version": "3.13.2"
  }
 },
 "nbformat": 4,
 "nbformat_minor": 5
}
