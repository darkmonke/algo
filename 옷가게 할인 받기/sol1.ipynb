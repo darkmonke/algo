{
 "cells": [
  {
   "cell_type": "code",
   "execution_count": null,
   "id": "bfa133be-2a46-4581-a53e-980f72705b60",
   "metadata": {},
   "outputs": [],
   "source": [
    "def solution(price):\n",
    "    if 100000 % price >= 100000:\n",
    "        return 100000 * (1 - 100000 * 0.05)\n",
    "    elif 300000 % price >= 300000:\n",
    "        return 300000 % price * (1 - 300000 * 0.1)\n",
    "    elif 500000 % price >= 500000:\n",
    "        return 500000 % price * (1 - 500000 * 0.2)\n",
    "\n",
    "# 이 코드에서 조건문 순서 잘못됨."
   ]
  }
 ],
 "metadata": {
  "kernelspec": {
   "display_name": "Python 3 (ipykernel)",
   "language": "python",
   "name": "python3"
  },
  "language_info": {
   "codemirror_mode": {
    "name": "ipython",
    "version": 3
   },
   "file_extension": ".py",
   "mimetype": "text/x-python",
   "name": "python",
   "nbconvert_exporter": "python",
   "pygments_lexer": "ipython3",
   "version": "3.13.2"
  }
 },
 "nbformat": 4,
 "nbformat_minor": 5
}
