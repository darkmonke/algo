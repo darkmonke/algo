{
 "cells": [
  {
   "cell_type": "code",
   "execution_count": 1,
   "id": "17eb46da-ae1d-4994-a2ca-4f3f2eba11a0",
   "metadata": {},
   "outputs": [],
   "source": [
    "def solution(slice, n):\n",
    "    d, m = divmod(n, slice)\n",
    "    return d + int(m != 0)"
   ]
  },
  {
   "cell_type": "markdown",
   "id": "3a2f1bb0-c2bb-4e15-9a18-08ae97864938",
   "metadata": {},
   "source": [
    "# 배운 내용\n",
    "\n",
    "1. divmod는 나눗셈의 몫과 나머지를 튜플 형태로 반환하지만, 이를 위와 같이 여러 변수에 한 번에 할당할 수 있음. 이런 방식을 '언패킹(다중 할당)' 방식이라고 함.\n",
    "   \n",
    "___언패킹 예시___\n",
    "1) 문자열: a, b, c = \"xyz\" ==> a='x', b='y',, c='z'\n",
    "2) 세트: a, b, c = {1, 2, 3}  ==> 세트는 순서가 보장되지 않으므로 변수에 어떤 값이 할당될지 예측이 어려움\n",
    "3) 딕셔너리: a, b, c = {\"x\":1, \"y\":2, \"z\":3}  ==> a='x', b='y', c='z' (키만 언패킹됨)\n",
    "4) 제너레이터: a, b, c = (i for i in range(3)) ==> a-0, b=1, c=2\n",
    "5) zip 객체: a, b = zip([1, 2], [3, 4])  ==> a=(1, 3), b=(2, 4)\n",
    "\n",
    "___언패킹 시 주의사항___\n",
    "1) 변수 개수와 요소 개수가 일치해야 함. \n",
    "```\n",
    "a, b = [1, 2, 3]  ==> ValueError: too many values to unpack\n",
    "```\n",
    "\n",
    "2) 별표(*) 사용으로 나머지 요소 할당\n",
    "```\n",
    "a, *b = [1, 2, 3, 4]  ==> a=1, b=[2, 3, 4]\n",
    "*a, b = [1, 2, 3, 4]  ==> a=[1, 2, 3], b=4\n",
    "a, *b, c = [1, 2, 3, 4]  ==> a=1, b=[2, 3], c=4\n",
    "```\n",
    "\n",
    "3) 값 교환 용이\n",
    "```\n",
    "a, b = 10, 20\n",
    "a, b = b, a  ==> a=20, b=10으로 값이 교환됨\n",
    "```\n",
    "\n",
    "2. int()가 불리언 값을 정수로 변환할 때 True는 정수 1로, False는 정수 0으로 반환한다.\n",
    "\n",
    "3. 제너레이터(Generator)\n",
    "정의: 파이썬에서 이터레이터(iterator)를 생성하는 함수.\n",
    "\n",
    "4. zip 객체\n",
    "정의: 여러 이터러블 객체의 요소들을 튜플로 짝지어 주는 함수 결과는 zip 객체로 반환\n",
    "\n",
    "\n",
    "```\n",
    "names = [\"Alice\", \"Bob\", \"Charlie\"]\n",
    "ages = [25, 30, 35]\n",
    "cities = [\"New York\", \"Boston\", \"Chicago\"]\n",
    "\n",
    "for person in zip(names, ages, cities):\n",
    "    print(person)\n",
    "# 출력:\n",
    "# ('Alice', 25, 'New York')\n",
    "# ('Bob', 30, 'Boston')\n",
    "# ('Charlie', 35, 'Chicago')\n",
    "\n",
    "# 리스트로 변환\n",
    "zipped_list = list(zip(names, ages))\n",
    "# [('Alice', 25), ('Bob', 30), ('Charlie', 35)]\n",
    "```"
   ]
  }
 ],
 "metadata": {
  "kernelspec": {
   "display_name": "Python 3 (ipykernel)",
   "language": "python",
   "name": "python3"
  },
  "language_info": {
   "codemirror_mode": {
    "name": "ipython",
    "version": 3
   },
   "file_extension": ".py",
   "mimetype": "text/x-python",
   "name": "python",
   "nbconvert_exporter": "python",
   "pygments_lexer": "ipython3",
   "version": "3.13.2"
  }
 },
 "nbformat": 4,
 "nbformat_minor": 5
}
