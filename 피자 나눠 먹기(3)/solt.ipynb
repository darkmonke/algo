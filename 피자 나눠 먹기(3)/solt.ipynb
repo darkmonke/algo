{
 "cells": [
  {
   "cell_type": "code",
   "execution_count": 1,
   "id": "17eb46da-ae1d-4994-a2ca-4f3f2eba11a0",
   "metadata": {},
   "outputs": [],
   "source": [
    "def solution(slice, n):\n",
    "    d, m = divmod(n, slice)\n",
    "    return d + int(m != 0)"
   ]
  },
  {
   "cell_type": "markdown",
   "id": "3a2f1bb0-c2bb-4e15-9a18-08ae97864938",
   "metadata": {},
   "source": [
    "# 배운 내용\n",
    "\n",
    "1. divmod는 나눗셈의 몫과 나머지를 튜플 형태로 반환하지만, 이를 위와 같이 여러 변수에 한 번에 할당할 수 있음. 이런 방식을 '언패킹(다중 할당)' 방식이라고 함.\n",
    "   \n",
    "___언패킹 예시___\n",
    "1) 문자열: a, b, c = \"xyz\" ==> a='x', b='y',, c='z'\n",
    "2) 세트: a, b, c = {1, 2, 3}  ==> 세트는 순서가 보장되지 않으므로 변수에 어떤 값이 할당될지 예측이 어려움\n",
    "3) 딕셔너리: a, b, c = {\"x\":1, \"y\":2, \"z\":3}  ==> a='x', b='y', c='z' (키만 언패킹됨)\n",
    "4) 제너레이터: a, b, c = (i for i in range(3)) ==> a-0, b=1, c=2\n",
    "5) zip 객체: a, b = zip([1, 2], [3, 4])  ==> a=(1, 3), b=(2, 4)\n",
    "\n",
    "___언패킹 시 주의사항___\n",
    "1) 변수 개수와 요소 개수가 일치해야 함. \n",
    "```\n",
    "a, b = [1, 2, 3]  ==> ValueError: too many values to unpack\n",
    "```\n",
    "\n",
    "2) 별표(*) 사용으로 나머지 요소 할당\n",
    "```\n",
    "a, *b = [1, 2, 3, 4]  ==> a=1, b=[2, 3, 4]\n",
    "*a, b = [1, 2, 3, 4]  ==> a=[1, 2, 3], b=4\n",
    "a, *b, c = [1, 2, 3, 4]  ==> a=1, b=[2, 3], c=4\n",
    "```\n",
    "\n",
    "3) 값 교환 용이\n",
    "```\n",
    "a, b = 10, 20\n",
    "a, b = b, a  ==> a=20, b=10으로 값이 교환됨\n",
    "```\n",
    "\n",
    "2. int()가 불리언 값을 정수로 변환할 때 True는 정수 1로, False는 정수 0으로 반환한다.\n",
    "\n",
    "3. zip 객체\n",
    "정의: 여러 이터러블 객체의 요소들을 튜플로 짝지어 주는 함수. 결과는 zip 객체로 반환\n",
    "\n",
    "```\n",
    "names = [\"Alice\", \"Bob\", \"Charlie\"]\n",
    "ages = [25, 30, 35]\n",
    "cities = [\"New York\", \"Boston\", \"Chicago\"]\n",
    "\n",
    "for person in zip(names, ages, cities):\n",
    "    print(person)\n",
    "# 출력:\n",
    "# ('Alice', 25, 'New York')\n",
    "# ('Bob', 30, 'Boston')\n",
    "# ('Charlie', 35, 'Chicago')\n",
    "\n",
    "# 리스트로 변환\n",
    "zipped_list = list(zip(names, ages))\n",
    "# [('Alice', 25), ('Bob', 30), ('Charlie', 35)]\n",
    "```"
   ]
  },
  {
   "cell_type": "markdown",
   "id": "4e47ce9c-1d50-4ba7-a32a-96fd5dad242e",
   "metadata": {},
   "source": [
    "4. 이터레이터(Iterator)와 제너레이터(Generator)\n",
    "1) Iterable\n",
    "- 정의: for문과 같은 반복 구문을 적용할 수 있는 객체를 반복 가능(iterable) 객체라고 한다. 반복 가능한 객체에는 list, tuple, dictionary, set, range, bytes 등이 있다.\n",
    "\n",
    "2) Iterator\n",
    "- 정의: next() 함수 호출 시 그 다음 값을 계속해서 반환하는 객체. 단, 반복 가능하다고 해서 보두 이터레이터는 아니다. 다음 예시를 참고하자.\n",
    "```\n",
    ">>> my_tuple = (1, 2, 3)\n",
    ">>> next(my_tuple)\n",
    "TypeError\n",
    "Traceback (most recent call last):\n",
    "Cell In[3], line 2\n",
    "      1 my_tuple = (1, 2, 3)\n",
    "----> 2 next(my_tuple)\n",
    "\n",
    "TypeError: 'tuple' object is not an iterator\n",
    "```\n",
    "하지만 반복 가능하다면 다음과 같이 iter 함수를 이용하여 이터레이터로 만들 수 있다.\n",
    "\n",
    "```\n",
    ">>> my_tuple = (1, 2, 30)\n",
    ">>> it = iter(my_tuple)\n",
    ">>> type(it)\n",
    "tuple_iterator\n",
    "```\n",
    "\n",
    "이제 next() 함수를 호출해 it를 매개변수로 대입하면 1, 2, 30이 순서대로 반환되고, 더 이상 반환할 값이 없다면 StopIteration 예외가 발생한다. 반면 for문을 사용하면 next 함수를 따로 호출할 필요도 없고 StopIteration 예외도 발생하지 않는다.\n",
    "```\n",
    ">>> my_tuple = (1, 2, 3)\n",
    ">>> it = iter(my_tuple)\n",
    ">>> for i in it:\n",
    "...     print(i)\n",
    "... \n",
    "1\n",
    "2\n",
    "3\n",
    "```\n",
    "만약 위와 같이 이터레이터를 for문을 이용하여 반복한 후 다시 반복을 시도하거나 next()를 사용하면 그 값을 다시는 읽을 수 없다.\n",
    "\n",
    "3) 제너레이터(Generator)\n",
    "- 정의: 이터레이터를 생성해 주는 함수. 제너레이터 함수로 생성한 객체는 이터레이터와 마찬가지로 next() 함수 호출 시 그 결과를 차례대로 얻을 수 있다. 이 때 제너레이터에서는 return 대신 yield 키워드를 사용한다.\n",
    "```\n",
    ">>> def color():\n",
    "...     yield 'yellow'\n",
    "...     yield 'blue'\n",
    "...     yield 'orange'\n",
    "... \n",
    ">>> g = color()\n",
    "```\n",
    "color 함수는 yield 키워드를 사용하기 때문에 제너레이터. 제너레이터 객체는 `g = color()`와 같이 제너레이터 함수를 호출해 만들 수 있다. type 명령어로 확인하면 g 객체는 제너레이터 타입의 객체라고 출력된다.\n",
    "\n",
    "제너레이터 객체 g로 next 함수를 실행하면 color 함수의 첫 번째 yield문에 따라 'yellow' 값을 반환한다. 여기서 제너레이터는 yield라는 문장을 만나면 그 값을 반환하되 현재 상태를 그대로 기억한다는 것에 주목할 필요가 있다.\n",
    "계속해서 next() 함수를 호출하면 순서대로 'blue'와 'orange'가 출력되고 4번째 next()를 호출할 때는 StopIterator 예외가 발생한다.\n",
    "\n",
    "한편, 모든 제너리이터는 이터레이터를 만들기 때문에 제너레이터 객체는 이터레이터 객체라고 봐도 무방하다.\n",
    "\n",
    "4. 제너레이터 표현식\n",
    "```\n",
    "def mygen():\n",
    "    for i in range(1, 1000):\n",
    "        result = i * i\n",
    "        yield result\n",
    "\n",
    "gen = mygen()\n",
    "\n",
    "print(next(gen))\n",
    "print(next(gen))\n",
    "print(next(gen))\n",
    "```\n",
    "제너레이터는 위와 같이 def를 이용하여 함수로 만들 수도 있지만 튜플 표현식으로 간단하게 표현할 수도 있다.\n",
    "\n",
    "```\n",
    "gen = (i * i for i in range(1, 1000))\n",
    "```\n",
    "\n",
    "클래스를 이용하여 이터레이터를 작성하면 더 복잡한 기능을 수행하게 할 수 있는 반면, 제너레이터 표현식을 이용하면 간단하게 이터레이터를 만들 수 있다. 간단한 경우라면 제너레이터 함수나 제너레이터 표현식을 사용하는 것이 가독성이나 유지보수 측면에서 좋음.\n",
    "\n",
    "5. 이터레이터와 제너레이터의 사용\n",
    "여러 경우에 사용하지만 대용량 파일을 관리할 때 가장 많이 사용하는 것 같다.\n",
    "(예제 코드 따라 코딩하고 고쳐보면서 익히기)"
   ]
  },
  {
   "cell_type": "code",
   "execution_count": 37,
   "id": "4db9abd5-5904-4453-98f5-1e47b4ceccc1",
   "metadata": {},
   "outputs": [
    {
     "name": "stdout",
     "output_type": "stream",
     "text": [
      "1\n",
      "2\n",
      "3\n",
      "4\n",
      "5\n"
     ]
    }
   ],
   "source": [
    "my_list = [1, 2 ,3, 4, 5]\n",
    "\n",
    "iterator = iter(my_list)\n",
    "\n",
    "print(next(iterator))\n",
    "print(next(iterator))\n",
    "print(next(iterator))\n",
    "print(next(iterator))\n",
    "print(next(iterator))\n",
    "# print(next(iterator))"
   ]
  },
  {
   "cell_type": "markdown",
   "id": "e61815f7-312e-4031-bce7-0ca28025f914",
   "metadata": {},
   "source": [
    "### 위 코드에서 next() 함수를 print로 감쌌을 때는 숫자가 1~5까지 하나씩 출력되는데, next 함수만 사용했을 때는 5만 출력됨. 그 이유는?\n",
    "\n",
    "- 파이썬 인터프리터나 IDLE, Jupyter Notebook과 같은 대화형 환경에서 코드를 실행할 때, 마지막으로 평가된 표현식의 결과만 자동으로 출력\n",
    "- 출력을 보려면 각 호출을 print()로 감싸거나, 각 결과를 변수에 저장해야 함."
   ]
  },
  {
   "cell_type": "code",
   "execution_count": 14,
   "id": "181e5c37-4cc1-44c3-aea2-7acb2e5c6d43",
   "metadata": {},
   "outputs": [
    {
     "name": "stdout",
     "output_type": "stream",
     "text": [
      "항목: 1\n",
      "항목: 2\n",
      "항목: 3\n",
      "항목: 4\n",
      "항목: 5\n",
      "이터레이터 종료\n"
     ]
    }
   ],
   "source": [
    "# 1. 기본 이터레이터\n",
    "\n",
    "b = (1, 2, 3, 4, 5)\n",
    "iterator = iter(b)\n",
    "\n",
    "while True:\n",
    "    try:\n",
    "        item = next(iterator)\n",
    "        print(f'항목: {item}')\n",
    "    except StopIteration:\n",
    "        print(\"이터레이터 종료\")\n",
    "        break"
   ]
  },
  {
   "cell_type": "code",
   "execution_count": 29,
   "id": "2839c1aa-dfc9-4691-a938-3aa3acf160f9",
   "metadata": {},
   "outputs": [],
   "source": [
    "# 2. 이터레이터 클래스 만들기\n",
    "class Countdown:\n",
    "    def __init__(self, start):\n",
    "        self.start = start\n",
    "\n",
    "    def __iter__(self):\n",
    "        return self\n",
    "\n",
    "    def __next__(self):\n",
    "        if self.start <= 0:\n",
    "            raise StopIteration\n",
    "        self.start -= 1\n",
    "        return self.start + 1"
   ]
  },
  {
   "cell_type": "markdown",
   "id": "a653155e-c5b3-4a7c-8fb9-da1b962a8dc1",
   "metadata": {},
   "source": [
    "### 위 코드에서 Countdown(5)를 하면 숫자가 출력되지 않는 이유\n",
    "이터레이터를 실제로 사용하려면 for문을 사용하거나 반복적으로 next() 메소드를 호출해야 함.\n",
    "\n",
    "- for문을 사용한 방법\n",
    "```\n",
    "for num in CountDown(5):\n",
    "    print(num)\n",
    "```\n",
    "\n",
    "- 반복적으로 next()를 호출하는 방법\n",
    "```\n",
    "counter = CountDown(5)\n",
    "print(next(counter))  # 5\n",
    "print(next(counter))  # 4\n",
    "print(next(counter))  # 3\n",
    "```"
   ]
  },
  {
   "cell_type": "code",
   "execution_count": 31,
   "id": "d7dce68b-d243-41d6-9702-e5472fd85cf8",
   "metadata": {},
   "outputs": [],
   "source": [
    "# 3. 기본 제너레이터 함수\n",
    "def simple_generator():\n",
    "    print(\"첫 번째 yield 실행\")\n",
    "    yield 1\n",
    "    print(\"두 번째 yield 실행\")\n",
    "    yield 2\n",
    "    print(\"세 번째 yield 실행\")\n",
    "    yield 3\n",
    "    print(\"네 번째 yield 실행\")\n",
    "    yield 4\n",
    "    print(\"다섯 번째 yield 실행\")\n",
    "    yield 5\n",
    "    print(\"제너레이터 함수 종료\")"
   ]
  },
  {
   "cell_type": "code",
   "execution_count": 33,
   "id": "d9ec0f3f-f84a-478d-8d73-dd987cb12e44",
   "metadata": {},
   "outputs": [
    {
     "name": "stdout",
     "output_type": "stream",
     "text": [
      "첫 번째 yield 실행\n",
      "1\n",
      "두 번째 yield 실행\n",
      "2\n",
      "세 번째 yield 실행\n",
      "3\n",
      "네 번째 yield 실행\n",
      "4\n",
      "다섯 번째 yield 실행\n",
      "5\n",
      "제너레이터 함수 종료\n"
     ]
    },
    {
     "ename": "StopIteration",
     "evalue": "",
     "output_type": "error",
     "traceback": [
      "\u001b[1;31m---------------------------------------------------------------------------\u001b[0m",
      "\u001b[1;31mStopIteration\u001b[0m                             Traceback (most recent call last)",
      "Cell \u001b[1;32mIn[33], line 7\u001b[0m\n\u001b[0;32m      5\u001b[0m \u001b[38;5;28mprint\u001b[39m(\u001b[38;5;28mnext\u001b[39m(gen))\n\u001b[0;32m      6\u001b[0m \u001b[38;5;28mprint\u001b[39m(\u001b[38;5;28mnext\u001b[39m(gen))\n\u001b[1;32m----> 7\u001b[0m \u001b[38;5;28mprint\u001b[39m(\u001b[38;5;28;43mnext\u001b[39;49m\u001b[43m(\u001b[49m\u001b[43mgen\u001b[49m\u001b[43m)\u001b[49m)\n",
      "\u001b[1;31mStopIteration\u001b[0m: "
     ]
    }
   ],
   "source": [
    "gen = simple_generator()\n",
    "print(next(gen))\n",
    "print(next(gen))\n",
    "print(next(gen))\n",
    "print(next(gen))\n",
    "print(next(gen))\n",
    "print(next(gen))"
   ]
  },
  {
   "cell_type": "code",
   "execution_count": 44,
   "id": "fb9f5278-6a8d-41cb-91e5-da91efbd1324",
   "metadata": {},
   "outputs": [
    {
     "name": "stdout",
     "output_type": "stream",
     "text": [
      "[1, 4, 9, 16, 25]\n",
      "<generator object <genexpr> at 0x0000014D998B76B0>\n",
      "1\n",
      "4\n",
      "9\n",
      "16\n",
      "25\n"
     ]
    }
   ],
   "source": [
    "# 4. 제너레이터 표현식\n",
    "\n",
    "numbers = [1, 2, 3, 4, 5]\n",
    "\n",
    "# 리스트 컴프리헨션 (메모리에 전체 리슽트 생성)\n",
    "squares_list = [x**2 for x in numbers]\n",
    "print(squares_list)\n",
    "\n",
    "# 제너레이터 표현식(필요할 때만 생성)\n",
    "squares_gen = (x**2 for x in numbers)\n",
    "print(squares_gen)\n",
    "\n",
    "# 제너레이터 호출 및 소진\n",
    "for square in squares_gen:\n",
    "    print(square)"
   ]
  },
  {
   "cell_type": "markdown",
   "id": "1522533e-a39a-414e-9c87-a8acd45e03ce",
   "metadata": {},
   "source": [
    "### 리스트 컴프리헨션과 제너레이터 표현식의 핵심 차이점\n",
    "1. 메모리 사용량:\n",
    "리스트 컴프리헨션([x**2 for x in numbers])은 모든 결과를 한번에 메모리에 저장.\n",
    "반면, 제너레이터 표현식((x**2 for x in numbers))은 결과를 미리 계산하지 않고 필요할 때 하나씩 계산\n",
    "\n",
    "\n",
    "2. 지연 평가(Lazy Evaluation):\n",
    "\n",
    "리스트는 즉시 모든 값을 계산.\n",
    "반면, 제너레이터는 next()가 호출되거나 반복문에서 사용될 때만 값을 계산.\n",
    "\n",
    "\n",
    "3. 일회성 소비:\n",
    "\n",
    "리스트는 생성 후 여러 번 반복적으로 접근 가능.\n",
    "반면, 제너레이터는 한 번 소진되면(모든 값을 사용하면) 다시 사용할 수 없음.\n",
    "\n",
    "\n",
    "4. 출력 형태:\n",
    "\n",
    "print(squares_list)는 실제 값이 들어있는 리스트를 출력: [1, 4, 9, 16, 25]\n",
    "반면, print(squares_gen)는 제너레이터 객체 자체를 출력: <generator object <genexpr> at 0x...>"
   ]
  },
  {
   "cell_type": "code",
   "execution_count": null,
   "id": "6dadcb70-3957-4e96-ba17-379c038a14ab",
   "metadata": {},
   "outputs": [],
   "source": []
  }
 ],
 "metadata": {
  "kernelspec": {
   "display_name": "Python 3 (ipykernel)",
   "language": "python",
   "name": "python3"
  },
  "language_info": {
   "codemirror_mode": {
    "name": "ipython",
    "version": 3
   },
   "file_extension": ".py",
   "mimetype": "text/x-python",
   "name": "python",
   "nbconvert_exporter": "python",
   "pygments_lexer": "ipython3",
   "version": "3.13.2"
  }
 },
 "nbformat": 4,
 "nbformat_minor": 5
}
