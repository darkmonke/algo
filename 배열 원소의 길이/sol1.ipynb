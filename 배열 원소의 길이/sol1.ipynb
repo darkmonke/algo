{
 "cells": [
  {
   "cell_type": "code",
   "execution_count": null,
   "id": "d5dc3466-c954-458b-a697-e9e42ebc03af",
   "metadata": {},
   "outputs": [],
   "source": [
    "def solution(strlist):\n",
    "    return [len(i) for i in strlist]"
   ]
  }
 ],
 "metadata": {
  "kernelspec": {
   "display_name": "Python 3 (ipykernel)",
   "language": "python",
   "name": "python3"
  },
  "language_info": {
   "codemirror_mode": {
    "name": "ipython",
    "version": 3
   },
   "file_extension": ".py",
   "mimetype": "text/x-python",
   "name": "python",
   "nbconvert_exporter": "python",
   "pygments_lexer": "ipython3",
   "version": "3.13.2"
  }
 },
 "nbformat": 4,
 "nbformat_minor": 5
}
