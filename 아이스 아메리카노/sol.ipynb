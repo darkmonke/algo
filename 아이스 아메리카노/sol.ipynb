{
 "cells": [
  {
   "cell_type": "code",
   "execution_count": null,
   "id": "439ccd66-1040-4b07-ace9-bc692f932b45",
   "metadata": {},
   "outputs": [],
   "source": [
    "def solution(n):\n",
    "    if n ** (1 / 2) == n / (n ** (1 / 2)):\n",
    "        return 1\n",
    "    else:\n",
    "        return 2"
   ]
  }
 ],
 "metadata": {
  "kernelspec": {
   "display_name": "Python 3 (ipykernel)",
   "language": "python",
   "name": "python3"
  },
  "language_info": {
   "codemirror_mode": {
    "name": "ipython",
    "version": 3
   },
   "file_extension": ".py",
   "mimetype": "text/x-python",
   "name": "python",
   "nbconvert_exporter": "python",
   "pygments_lexer": "ipython3",
   "version": "3.13.2"
  }
 },
 "nbformat": 4,
 "nbformat_minor": 5
}
